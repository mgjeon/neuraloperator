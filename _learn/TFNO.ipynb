{
 "cells": [
  {
   "cell_type": "code",
   "execution_count": 1,
   "metadata": {},
   "outputs": [],
   "source": [
    "import torch\n",
    "from neuralop.models import TFNO, TFNO1d, TFNO2d, TFNO3d\n",
    "from neuralop.utils import count_model_params"
   ]
  },
  {
   "cell_type": "markdown",
   "metadata": {},
   "source": [
    "1D\n",
    "\n",
    "```\n",
    "input : batch_size, in_channels , height\n",
    "output: batch_size, out_channels, height\n",
    "```"
   ]
  },
  {
   "cell_type": "code",
   "execution_count": 2,
   "metadata": {},
   "outputs": [],
   "source": [
    "fno = TFNO(\n",
    "    n_modes=[16],\n",
    "    hidden_channels=32,\n",
    "    in_channels=1,\n",
    "    out_channels=257,\n",
    "    lifting_channels=256,\n",
    "    projection_channels=256,\n",
    "    n_layers=4,\n",
    "    factorization='tucker',\n",
    "    implementation='factorized',\n",
    "    rank = 0.5\n",
    ")"
   ]
  },
  {
   "cell_type": "code",
   "execution_count": 3,
   "metadata": {},
   "outputs": [
    {
     "data": {
      "text/plain": [
       "torch.Size([5, 257, 9])"
      ]
     },
     "execution_count": 3,
     "metadata": {},
     "output_type": "execute_result"
    }
   ],
   "source": [
    "inputs = torch.rand((5, 1, 9))\n",
    "fno(inputs).shape"
   ]
  },
  {
   "cell_type": "code",
   "execution_count": 4,
   "metadata": {},
   "outputs": [
    {
     "data": {
      "text/plain": [
       "122385"
      ]
     },
     "execution_count": 4,
     "metadata": {},
     "output_type": "execute_result"
    }
   ],
   "source": [
    "count_model_params(fno)"
   ]
  },
  {
   "cell_type": "code",
   "execution_count": 5,
   "metadata": {},
   "outputs": [],
   "source": [
    "fno1d = TFNO1d(\n",
    "    n_modes_height=16,\n",
    "    hidden_channels=32,\n",
    "    in_channels=1,\n",
    "    out_channels=257,\n",
    "    lifting_channels=256,\n",
    "    projection_channels=256,\n",
    "    n_layers=4,\n",
    "    factorization='tucker',\n",
    "    implementation='factorized',\n",
    "    rank = 0.5\n",
    ")"
   ]
  },
  {
   "cell_type": "code",
   "execution_count": 6,
   "metadata": {},
   "outputs": [
    {
     "data": {
      "text/plain": [
       "torch.Size([5, 257, 9])"
      ]
     },
     "execution_count": 6,
     "metadata": {},
     "output_type": "execute_result"
    }
   ],
   "source": [
    "inputs = torch.rand((5, 1, 9))\n",
    "fno1d(inputs).shape"
   ]
  },
  {
   "cell_type": "code",
   "execution_count": 7,
   "metadata": {},
   "outputs": [
    {
     "data": {
      "text/plain": [
       "122385"
      ]
     },
     "execution_count": 7,
     "metadata": {},
     "output_type": "execute_result"
    }
   ],
   "source": [
    "count_model_params(fno1d)"
   ]
  },
  {
   "cell_type": "markdown",
   "metadata": {},
   "source": [
    "2D\n",
    "\n",
    "```\n",
    "input : batch_size, in_channels , height, width\n",
    "output: batch_size, out_channels, height, width\n",
    "```"
   ]
  },
  {
   "cell_type": "code",
   "execution_count": 8,
   "metadata": {},
   "outputs": [],
   "source": [
    "fno = TFNO(\n",
    "    n_modes=[16, 16],\n",
    "    hidden_channels=32,\n",
    "    in_channels=1,\n",
    "    out_channels=257,\n",
    "    lifting_channels=256,\n",
    "    projection_channels=256,\n",
    "    n_layers=4,\n",
    "    factorization='tucker',\n",
    "    implementation='factorized',\n",
    "    rank = 0.5\n",
    ")"
   ]
  },
  {
   "cell_type": "code",
   "execution_count": 9,
   "metadata": {},
   "outputs": [
    {
     "data": {
      "text/plain": [
       "torch.Size([5, 257, 9, 8])"
      ]
     },
     "execution_count": 9,
     "metadata": {},
     "output_type": "execute_result"
    }
   ],
   "source": [
    "inputs = torch.rand((5, 1, 9, 8))\n",
    "fno(inputs).shape"
   ]
  },
  {
   "cell_type": "code",
   "execution_count": 10,
   "metadata": {},
   "outputs": [
    {
     "data": {
      "text/plain": [
       "710049"
      ]
     },
     "execution_count": 10,
     "metadata": {},
     "output_type": "execute_result"
    }
   ],
   "source": [
    "count_model_params(fno)"
   ]
  },
  {
   "cell_type": "code",
   "execution_count": 11,
   "metadata": {},
   "outputs": [],
   "source": [
    "fno2d = TFNO2d(\n",
    "    n_modes_height=16,\n",
    "    n_modes_width=16,\n",
    "    hidden_channels=32,\n",
    "    in_channels=1,\n",
    "    out_channels=257,\n",
    "    lifting_channels=256,\n",
    "    projection_channels=256,\n",
    "    n_layers=4,\n",
    "    factorization='tucker',\n",
    "    implementation='factorized',\n",
    "    rank = 0.5\n",
    ")"
   ]
  },
  {
   "cell_type": "code",
   "execution_count": 12,
   "metadata": {},
   "outputs": [
    {
     "data": {
      "text/plain": [
       "torch.Size([5, 257, 9, 8])"
      ]
     },
     "execution_count": 12,
     "metadata": {},
     "output_type": "execute_result"
    }
   ],
   "source": [
    "inputs = torch.rand((5, 1, 9, 8))\n",
    "fno2d(inputs).shape"
   ]
  },
  {
   "cell_type": "code",
   "execution_count": 13,
   "metadata": {},
   "outputs": [
    {
     "data": {
      "text/plain": [
       "710049"
      ]
     },
     "execution_count": 13,
     "metadata": {},
     "output_type": "execute_result"
    }
   ],
   "source": [
    "count_model_params(fno2d)"
   ]
  },
  {
   "cell_type": "markdown",
   "metadata": {},
   "source": [
    "3D\n",
    "\n",
    "```\n",
    "input : batch_size, in_channels , height, width, depth\n",
    "output: batch_size, out_channels, height, width, depth\n",
    "```"
   ]
  },
  {
   "cell_type": "code",
   "execution_count": 14,
   "metadata": {},
   "outputs": [],
   "source": [
    "fno = TFNO(\n",
    "    n_modes=[16, 16, 16],\n",
    "    hidden_channels=32,\n",
    "    in_channels=1,\n",
    "    out_channels=257,\n",
    "    lifting_channels=256,\n",
    "    projection_channels=256,\n",
    "    n_layers=4,\n",
    "    factorization='tucker',\n",
    "    implementation='factorized',\n",
    "    rank = 0.5\n",
    ")"
   ]
  },
  {
   "cell_type": "code",
   "execution_count": 15,
   "metadata": {},
   "outputs": [
    {
     "data": {
      "text/plain": [
       "torch.Size([5, 257, 9, 8, 7])"
      ]
     },
     "execution_count": 15,
     "metadata": {},
     "output_type": "execute_result"
    }
   ],
   "source": [
    "inputs = torch.rand((5, 1, 9, 8, 7))\n",
    "fno(inputs).shape"
   ]
  },
  {
   "cell_type": "code",
   "execution_count": 16,
   "metadata": {},
   "outputs": [
    {
     "data": {
      "text/plain": [
       "9940449"
      ]
     },
     "execution_count": 16,
     "metadata": {},
     "output_type": "execute_result"
    }
   ],
   "source": [
    "count_model_params(fno)"
   ]
  },
  {
   "cell_type": "code",
   "execution_count": 17,
   "metadata": {},
   "outputs": [],
   "source": [
    "fno3d = TFNO3d(\n",
    "    n_modes_height=16,\n",
    "    n_modes_width=16,\n",
    "    n_modes_depth=16,\n",
    "    hidden_channels=32,\n",
    "    in_channels=1,\n",
    "    out_channels=257,\n",
    "    lifting_channels=256,\n",
    "    projection_channels=256,\n",
    "    n_layers=4,\n",
    "    factorization='tucker',\n",
    "    implementation='factorized',\n",
    "    rank = 0.5\n",
    ")"
   ]
  },
  {
   "cell_type": "code",
   "execution_count": 18,
   "metadata": {},
   "outputs": [
    {
     "data": {
      "text/plain": [
       "torch.Size([5, 257, 9, 8, 7])"
      ]
     },
     "execution_count": 18,
     "metadata": {},
     "output_type": "execute_result"
    }
   ],
   "source": [
    "inputs = torch.rand((5, 1, 9, 8, 7))\n",
    "fno3d(inputs).shape"
   ]
  },
  {
   "cell_type": "code",
   "execution_count": 19,
   "metadata": {},
   "outputs": [
    {
     "data": {
      "text/plain": [
       "9940449"
      ]
     },
     "execution_count": 19,
     "metadata": {},
     "output_type": "execute_result"
    }
   ],
   "source": [
    "count_model_params(fno3d)"
   ]
  },
  {
   "cell_type": "code",
   "execution_count": null,
   "metadata": {},
   "outputs": [],
   "source": []
  }
 ],
 "metadata": {
  "kernelspec": {
   "display_name": "no",
   "language": "python",
   "name": "python3"
  },
  "language_info": {
   "codemirror_mode": {
    "name": "ipython",
    "version": 3
   },
   "file_extension": ".py",
   "mimetype": "text/x-python",
   "name": "python",
   "nbconvert_exporter": "python",
   "pygments_lexer": "ipython3",
   "version": "3.10.13"
  }
 },
 "nbformat": 4,
 "nbformat_minor": 2
}
