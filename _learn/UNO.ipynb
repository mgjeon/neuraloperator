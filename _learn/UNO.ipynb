{
 "cells": [
  {
   "cell_type": "code",
   "execution_count": 1,
   "metadata": {},
   "outputs": [],
   "source": [
    "import torch\n",
    "from neuralop.models import UNO\n",
    "from neuralop.utils import count_model_params"
   ]
  },
  {
   "cell_type": "markdown",
   "metadata": {},
   "source": [
    "3D\n",
    "\n",
    "```\n",
    "input : batch_size, in_channels , height, width, depth\n",
    "output: batch_size, out_channels, height, width, depth\n",
    "```"
   ]
  },
  {
   "cell_type": "code",
   "execution_count": 15,
   "metadata": {},
   "outputs": [],
   "source": [
    "model = UNO(in_channels=1,\n",
    "            out_channels=257, \n",
    "            hidden_channels=64, \n",
    "            projection_channels=64,\n",
    "            uno_out_channels = [32,64,64,64,32],\n",
    "            uno_n_modes= [[16,16,16],[8,8,8],[8,8,8],[8,8,8],[16,16,16]], \n",
    "            uno_scalings=  [[1.0,1.0,1.0],[0.5,0.5,0.5],[1,1,1],[2,2,2],[1,1,1]],\n",
    "            n_layers = 5, \n",
    "            domain_padding = 0.2)"
   ]
  },
  {
   "cell_type": "code",
   "execution_count": 16,
   "metadata": {},
   "outputs": [
    {
     "data": {
      "text/plain": [
       "torch.Size([5, 257, 9, 8, 7])"
      ]
     },
     "execution_count": 16,
     "metadata": {},
     "output_type": "execute_result"
    }
   ],
   "source": [
    "inputs = torch.rand((5, 1, 9, 8, 7))\n",
    "model(inputs).shape"
   ]
  },
  {
   "cell_type": "code",
   "execution_count": 17,
   "metadata": {},
   "outputs": [
    {
     "data": {
      "text/plain": [
       "32828609"
      ]
     },
     "execution_count": 17,
     "metadata": {},
     "output_type": "execute_result"
    }
   ],
   "source": [
    "count_model_params(model)"
   ]
  },
  {
   "cell_type": "code",
   "execution_count": null,
   "metadata": {},
   "outputs": [],
   "source": []
  }
 ],
 "metadata": {
  "kernelspec": {
   "display_name": "no",
   "language": "python",
   "name": "python3"
  },
  "language_info": {
   "codemirror_mode": {
    "name": "ipython",
    "version": 3
   },
   "file_extension": ".py",
   "mimetype": "text/x-python",
   "name": "python",
   "nbconvert_exporter": "python",
   "pygments_lexer": "ipython3",
   "version": "3.10.13"
  }
 },
 "nbformat": 4,
 "nbformat_minor": 2
}
